{
 "cells": [
  {
   "cell_type": "markdown",
   "metadata": {},
   "source": [
    "# 初始化\n",
    "引入必备模块和包，创建ArgumentParser对象，用于解析命令行参数"
   ]
  },
  {
   "cell_type": "code",
   "execution_count": null,
   "metadata": {},
   "outputs": [],
   "source": [
    "import os\n",
    "import time\n",
    "import numpy as np\n",
    "import torch\n",
    "import torch.nn as nn\n",
    "import torch.optim as optim\n",
    "from torchdiffeq import odeint_adjoint as odeint\n",
    "import matplotlib.pyplot as plt\n",
    "import matplotlib.animation as animation\n",
    "from matplotlib.animation import FuncAnimation\n",
    "import imageio\n",
    "\n",
    "# 确定ODE的数值方法\n",
    "method = 'dopri5'\n",
    "# 指定数据集大小\n",
    "data_size = 1000\n",
    "batch_time = 10\n",
    "batch_size = 20\n",
    "# 指定训练循环的迭代次数\n",
    "niters = 2000\n",
    "test_freq = 20\n"
   ]
  },
  {
   "cell_type": "markdown",
   "metadata": {},
   "source": [
    "# 环境检查\n",
    "设置了一个ODE求解环境，包括选择求解器、计算设备、初始条件、评估时间点以及系统的动态参数。这些设置都是为了在接下来的步骤中进行ODE求解准备的."
   ]
  },
  {
   "cell_type": "code",
   "execution_count": null,
   "metadata": {},
   "outputs": [],
   "source": [
    "true_y0 = torch.tensor([[2., 0.]])# 初始化真实的初始条件，可以看到这里的情况是一个1x2的张量\n",
    "t = torch.linspace(0., 25., data_size)# 创建时间点的张量，可能用于在这些时间点上评估ODE的解\n",
    "true_A = torch.tensor([[-0.1, 2.0], [-2.0, -0.1]])# 定义ODE的系数矩阵，代表系统的动态行为"
   ]
  },
  {
   "cell_type": "markdown",
   "metadata": {},
   "source": [
    "# 生成批量训练数据"
   ]
  },
  {
   "cell_type": "code",
   "execution_count": null,
   "metadata": {},
   "outputs": [],
   "source": [
    "# Lambda 类代表了一个常微分方程的动态行为\n",
    "class Lambda(nn.Module):\n",
    "# 定义了forward方法，它指定了ODE的具体形式。对于每个时间点t和状态y，forward方法返回y的三次方与系数矩阵true_A的矩阵乘积\n",
    "    def forward(self, t, y):\n",
    "        return torch.mm(y**3, true_A)\n",
    "\n",
    "# 无梯度下求解ODE\n",
    "with torch.no_grad():\n",
    "# 注意，这里的odeint需要一个模型，odeint需要一个模型（此处为Lambda()实例）\n",
    "# （接上）一个初始状态（true_y0），一组时间点（t），以及一个求解器方法（此处为dopri5，即显式Runge-Kutta方法的一种）  \n",
    "    true_y = odeint(Lambda(), true_y0, t, method='dopri5')\n",
    "\n",
    "# 生成批量训练数据\n",
    "# 这些步骤使得此代码段能够在训练神经网络模型时提供批量的输入数据和标签\n",
    "def get_batch():\n",
    "    s = torch.from_numpy(np.random.choice(np.arange(data_size - batch_time, dtype=np.int64), batch_size, replace=False))\n",
    "    batch_y0 = true_y[s]  # (M, D)\n",
    "    batch_t = t[:batch_time]  # (T)\n",
    "    batch_y = torch.stack([true_y[s + i] for i in range(batch_time)], dim=0)  # (T, M, D)\n",
    "    return batch_y0, batch_t, batch_y\n",
    "\n",
    "true_y"
   ]
  },
  {
   "cell_type": "markdown",
   "metadata": {},
   "source": [
    "# 可视化"
   ]
  },
  {
   "cell_type": "code",
   "execution_count": null,
   "metadata": {},
   "outputs": [],
   "source": [
    "\n",
    "def visualize(true_y, pred_y, odefunc, itr):\n",
    "\n",
    "    # Trajectories\n",
    "    plt.figure(1)\n",
    "    plt.clf()\n",
    "    plt.title('Trajectories')\n",
    "    plt.xlabel('t')\n",
    "    plt.ylabel('x,y')\n",
    "    plt.plot(t.cpu().numpy(), true_y.cpu().numpy()[:, 0, 0], 'g-', label='True')\n",
    "    plt.plot(t.cpu().numpy(), true_y.cpu().numpy()[:, 0, 1], 'g--', label='True')\n",
    "    plt.plot(t.cpu().numpy(), pred_y.cpu().numpy()[:, 0, 0], 'b-', label='Predicted')\n",
    "    plt.plot(t.cpu().numpy(), pred_y.cpu().numpy()[:, 0, 1], 'b--', label='Predicted')\n",
    "    plt.xlim(t.cpu().min(), t.cpu().max())\n",
    "    plt.ylim(-2, 2)\n",
    "    plt.legend()\n",
    "\n",
    "    # Phase Portrait\n",
    "    plt.figure(2)\n",
    "    plt.clf()\n",
    "    plt.title('Phase Portrait')\n",
    "    plt.xlabel('x')\n",
    "    plt.ylabel('y')\n",
    "    plt.plot(true_y.cpu().numpy()[:, 0, 0], true_y.cpu().numpy()[:, 0, 1], 'g-', label='True')\n",
    "    plt.plot(pred_y.cpu().numpy()[:, 0, 0], pred_y.cpu().numpy()[:, 0, 1], 'b-', label='Predicted')\n",
    "    plt.xlim(-2, 2)\n",
    "    plt.ylim(-2, 2)\n",
    "    plt.legend()\n",
    "\n",
    "    # Learned Vector Field\n",
    "    plt.figure(3)\n",
    "    plt.clf()\n",
    "    plt.title('Learned Vector Field')\n",
    "    plt.xlabel('x')\n",
    "    plt.ylabel('y')\n",
    "\n",
    "    y, x = np.mgrid[-2:2:21j, -2:2:21j]\n",
    "    dydt = odefunc(0, torch.Tensor(np.stack([x, y], -1).reshape(21 * 21, 2))).cpu().detach().numpy()\n",
    "    mag = np.sqrt(dydt[:, 0]**2 + dydt[:, 1]**2).reshape(-1, 1)\n",
    "    dydt = (dydt / mag)\n",
    "    dydt = dydt.reshape(21, 21, 2)\n",
    "\n",
    "    # Animation\n",
    "    def animate(i):\n",
    "        plt.figure(1)\n",
    "        plt.plot(t.cpu().numpy()[:i], true_y.cpu().numpy()[:i, 0, 0], 'g-', alpha=0.5)\n",
    "        plt.plot(t.cpu().numpy()[:i], true_y.cpu().numpy()[:i, 0, 1], 'g--', alpha=0.5)\n",
    "        plt.plot(t.cpu().numpy()[:i], pred_y.cpu().numpy()[:i, 0, 0], 'b-', alpha=0.5)\n",
    "        plt.plot(t.cpu().numpy()[:i], pred_y.cpu().numpy()[:i, 0, 1], 'b--', alpha=0.5)\n",
    "\n",
    "        plt.figure(2)\n",
    "        plt.plot(true_y.cpu().numpy()[:i, 0, 0], true_y.cpu().numpy()[:i, 0, 1], 'g-', alpha=0.5)\n",
    "        plt.plot(pred_y.cpu().numpy()[:i, 0, 0], pred_y.cpu().numpy()[:i, 0, 1], 'b-', alpha=0.5)\n",
    "\n",
    "        return [plt.figure(j) for j in range(1, 4)]\n",
    "\n",
    "    ani = animation.FuncAnimation(plt.gcf(), animate, frames=len(t), interval=100, blit=True)\n",
    "    plt.show()\n"
   ]
  },
  {
   "cell_type": "markdown",
   "metadata": {},
   "source": [
    "# 生成存储文件"
   ]
  },
  {
   "cell_type": "code",
   "execution_count": null,
   "metadata": {},
   "outputs": [],
   "source": [
    "# 生成存储文件\n",
    "def makedirs(dirname):\n",
    "    if not os.path.exists(dirname):\n",
    "        os.makedirs(dirname)\n"
   ]
  },
  {
   "cell_type": "markdown",
   "metadata": {},
   "source": [
    "# 求解ODE"
   ]
  },
  {
   "cell_type": "code",
   "execution_count": null,
   "metadata": {},
   "outputs": [],
   "source": [
    "# 设置神经网络\n",
    "class ODEFunc(nn.Module):\n",
    "    # 初始化\n",
    "    def __init__(self):\n",
    "        super(ODEFunc, self).__init__()\n",
    "\n",
    "        self.net = nn.Sequential(\n",
    "            nn.Linear(2, 50), #线性层\n",
    "            nn.Tanh(), # 激活层\n",
    "            nn.Linear(50, 2), # 线性层\n",
    "        )\n",
    "        #权重和偏置的初始化\n",
    "        for m in self.net.modules():\n",
    "            if isinstance(m, nn.Linear):\n",
    "                nn.init.normal_(m.weight, mean=0, std=0.1)\n",
    "                nn.init.constant_(m.bias, val=0)\n",
    "    # 前向传播\n",
    "    def forward(self, t, y):\n",
    "        return self.net(y**3)\n"
   ]
  },
  {
   "cell_type": "code",
   "execution_count": null,
   "metadata": {},
   "outputs": [],
   "source": [
    "ii = 0\n",
    "\n",
    "func = ODEFunc()\n",
    "# 使用优化算法及学习率\n",
    "optimizer = optim.RMSprop(func.parameters(), lr=1e-3)\n",
    "end = time.time()\n",
    "# 初始化时间记录器\n",
    "# time_meter = RunningAverageMeter(0.97)\n",
    "# 损失记录器\n",
    "# loss_meter = RunningAverageMeter(0.97)\n",
    "\n",
    "# 训练循环\n",
    "for itr in range(1, niters + 1):\n",
    "    # 梯度归零\n",
    "    optimizer.zero_grad()\n",
    "    batch_y0, batch_t, batch_y = get_batch()\n",
    "    # 前向传播和损失计算\n",
    "    pred_y = odeint(func, batch_y0, batch_t)\n",
    "    loss = torch.mean(torch.abs(pred_y - batch_y))\n",
    "    loss.backward()\n",
    "    optimizer.step()\n",
    "\n",
    "    # time_meter.update(time.time() - end)\n",
    "    # loss_meter.update(loss.item())\n",
    "\n",
    "    #定期评估和可视化\n",
    "    if itr % test_freq == 0:\n",
    "        with torch.no_grad():\n",
    "            pred_y = odeint(func, true_y0, t)\n",
    "            loss = torch.mean(torch.abs(pred_y - true_y))\n",
    "            print('Iter {:04d} | Total Loss {:.6f}'.format(itr, loss.item()))\n",
    "            visualize(true_y, pred_y, func, ii)\n",
    "            ii += 1\n",
    "    # 时间更新\n",
    "    end = time.time()\n"
   ]
  },
  {
   "cell_type": "markdown",
   "metadata": {},
   "source": []
  }
 ],
 "metadata": {
  "kernelspec": {
   "display_name": "lance",
   "language": "python",
   "name": "lance"
  },
  "language_info": {
   "codemirror_mode": {
    "name": "ipython",
    "version": 3
   },
   "file_extension": ".py",
   "mimetype": "text/x-python",
   "name": "python",
   "nbconvert_exporter": "python",
   "pygments_lexer": "ipython3",
   "version": "3.12.3"
  }
 },
 "nbformat": 4,
 "nbformat_minor": 2
}
